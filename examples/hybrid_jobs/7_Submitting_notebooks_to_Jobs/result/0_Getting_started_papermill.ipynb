{
 "cells": [
  {
   "cell_type": "markdown",
   "id": "a9d636ea",
   "metadata": {
    "papermill": {
     "duration": 0.003608,
     "end_time": "2022-11-02T19:08:10.590537",
     "exception": false,
     "start_time": "2022-11-02T19:08:10.586929",
     "status": "completed"
    },
    "tags": []
   },
   "source": [
    "# Example notebook \n",
    "\n",
    "This notebook is a copy from `examples/getting_started/0_Getting_started/0_Getting_started.ipynb` with a small modification to use with [Papermill](https://github.com/nteract/papermill)\n",
    "\n",
    "\n",
    "## Papermill parameters\n",
    "Papermill is a tool for parameterizing, executing, and analyzing Jupyter Notebooks. To parameterize a notebook, we need tag a cell to use for parameters. We can only tag one cell, and for not we only use integer paramters. \n",
    "Full instructions are available here https://papermill.readthedocs.io/en/latest/usage-parameterize.html#designate-parameters-for-a-cell. \n",
    "\n",
    "Below, we tag the parameter `shots=1000`. We can then run the notebook as usual cell-by-cell to see the results. "
   ]
  },
  {
   "cell_type": "code",
   "execution_count": 1,
   "id": "94fccc10",
   "metadata": {
    "execution": {
     "iopub.execute_input": "2022-11-02T19:08:10.597816Z",
     "iopub.status.busy": "2022-11-02T19:08:10.596881Z",
     "iopub.status.idle": "2022-11-02T19:08:10.609508Z",
     "shell.execute_reply": "2022-11-02T19:08:10.608497Z"
    },
    "papermill": {
     "duration": 0.019701,
     "end_time": "2022-11-02T19:08:10.612709",
     "exception": false,
     "start_time": "2022-11-02T19:08:10.593008",
     "status": "completed"
    },
    "tags": [
     "parameters"
    ]
   },
   "outputs": [],
   "source": [
    "# Papermill parameters\n",
    "shots = 1000\n",
    "\n",
    "# AWS Braket Parameters\n",
    "device_arn = \"arn:aws:braket:::device/quantum-simulator/amazon/sv1\"\n",
    "results_dir = \".\""
   ]
  },
  {
   "cell_type": "code",
   "execution_count": 2,
   "id": "83d3276f",
   "metadata": {
    "execution": {
     "iopub.execute_input": "2022-11-02T19:08:10.623072Z",
     "iopub.status.busy": "2022-11-02T19:08:10.622374Z",
     "iopub.status.idle": "2022-11-02T19:08:10.627848Z",
     "shell.execute_reply": "2022-11-02T19:08:10.626921Z"
    },
    "papermill": {
     "duration": 0.015312,
     "end_time": "2022-11-02T19:08:10.632099",
     "exception": false,
     "start_time": "2022-11-02T19:08:10.616787",
     "status": "completed"
    },
    "tags": [
     "injected-parameters"
    ]
   },
   "outputs": [],
   "source": [
    "# Parameters\n",
    "shots = 500\n",
    "device_arn = \"arn:aws:braket:::device/quantum-simulator/amazon/sv1\"\n",
    "results_dir = \"/opt/braket/model\"\n"
   ]
  },
  {
   "cell_type": "markdown",
   "id": "5f5311db",
   "metadata": {
    "papermill": {
     "duration": 0.003861,
     "end_time": "2022-11-02T19:08:10.639731",
     "exception": false,
     "start_time": "2022-11-02T19:08:10.635870",
     "status": "completed"
    },
    "tags": []
   },
   "source": [
    "# Getting started with Amazon Braket\n",
    "\n",
    "In this hello-world tutorial we prepare a maximally entangled Bell state between two qubits. We then run our circuit on a local simulator and obtain the results.\n",
    "\n",
    "**In the following cell, we add a tag called `parameters` for Papermill to recognize.**"
   ]
  },
  {
   "cell_type": "code",
   "execution_count": 3,
   "id": "96695825",
   "metadata": {
    "execution": {
     "iopub.execute_input": "2022-11-02T19:08:10.649051Z",
     "iopub.status.busy": "2022-11-02T19:08:10.648630Z",
     "iopub.status.idle": "2022-11-02T19:08:15.034726Z",
     "shell.execute_reply": "2022-11-02T19:08:15.033668Z"
    },
    "papermill": {
     "duration": 4.394285,
     "end_time": "2022-11-02T19:08:15.037808",
     "exception": false,
     "start_time": "2022-11-02T19:08:10.643523",
     "status": "completed"
    },
    "tags": []
   },
   "outputs": [],
   "source": [
    "# general imports\n",
    "import matplotlib.pyplot as plt\n",
    "%matplotlib inline\n",
    "\n",
    "# AWS imports: Import Braket SDK modules\n",
    "from braket.circuits import Circuit\n",
    "from braket.devices import LocalSimulator\n",
    "from braket.aws import AwsDevice"
   ]
  },
  {
   "cell_type": "markdown",
   "id": "bb5869e3",
   "metadata": {
    "papermill": {
     "duration": 0.00408,
     "end_time": "2022-11-02T19:08:15.046451",
     "exception": false,
     "start_time": "2022-11-02T19:08:15.042371",
     "status": "completed"
    },
    "tags": []
   },
   "source": [
    "## Build a circuit\n",
    "\n",
    "Let's build a Bell state with two qubits. By calling `Circuit()` we create an empty circuit, and we can just add gates to the circuit. "
   ]
  },
  {
   "cell_type": "code",
   "execution_count": 4,
   "id": "6439e2b6",
   "metadata": {
    "execution": {
     "iopub.execute_input": "2022-11-02T19:08:15.056293Z",
     "iopub.status.busy": "2022-11-02T19:08:15.055693Z",
     "iopub.status.idle": "2022-11-02T19:08:15.066630Z",
     "shell.execute_reply": "2022-11-02T19:08:15.065576Z"
    },
    "papermill": {
     "duration": 0.019351,
     "end_time": "2022-11-02T19:08:15.069747",
     "exception": false,
     "start_time": "2022-11-02T19:08:15.050396",
     "status": "completed"
    },
    "tags": []
   },
   "outputs": [],
   "source": [
    "# build a Bell state with two qubits. Here 'cnot(control=0, target=1)' can be simplified as 'cnot(0,1)'\n",
    "bell = Circuit().h(0).cnot(control=0, target=1)"
   ]
  },
  {
   "cell_type": "markdown",
   "id": "7bffd29b",
   "metadata": {
    "papermill": {
     "duration": 0.004091,
     "end_time": "2022-11-02T19:08:15.077853",
     "exception": false,
     "start_time": "2022-11-02T19:08:15.073762",
     "status": "completed"
    },
    "tags": []
   },
   "source": [
    "## Submit the circuit to the local simulator and obtain the results\n",
    "\n",
    "Here we submit our circuit to the local simulator and obtain the results."
   ]
  },
  {
   "cell_type": "code",
   "execution_count": 5,
   "id": "51513260",
   "metadata": {
    "execution": {
     "iopub.execute_input": "2022-11-02T19:08:15.087375Z",
     "iopub.status.busy": "2022-11-02T19:08:15.087031Z",
     "iopub.status.idle": "2022-11-02T19:08:18.546319Z",
     "shell.execute_reply": "2022-11-02T19:08:18.545247Z"
    },
    "papermill": {
     "duration": 3.466547,
     "end_time": "2022-11-02T19:08:18.548361",
     "exception": false,
     "start_time": "2022-11-02T19:08:15.081814",
     "status": "completed"
    },
    "tags": []
   },
   "outputs": [
    {
     "name": "stdout",
     "output_type": "stream",
     "text": [
      "Counter({'11': 269, '00': 231})\n"
     ]
    }
   ],
   "source": [
    "# set up device\n",
    "device = AwsDevice(device_arn)\n",
    "# device = LocalSimulator()\n",
    "\n",
    "# run circuit\n",
    "result = device.run(bell, shots=shots).result()\n",
    "# get measurement shots\n",
    "counts = result.measurement_counts\n",
    "# print counts\n",
    "print(counts)"
   ]
  },
  {
   "cell_type": "code",
   "execution_count": 6,
   "id": "405337b7",
   "metadata": {
    "execution": {
     "iopub.execute_input": "2022-11-02T19:08:18.567096Z",
     "iopub.status.busy": "2022-11-02T19:08:18.566769Z",
     "iopub.status.idle": "2022-11-02T19:08:18.758562Z",
     "shell.execute_reply": "2022-11-02T19:08:18.757628Z"
    },
    "papermill": {
     "duration": 0.209779,
     "end_time": "2022-11-02T19:08:18.760856",
     "exception": false,
     "start_time": "2022-11-02T19:08:18.551077",
     "status": "completed"
    },
    "tags": []
   },
   "outputs": [
    {
     "data": {
      "image/png": "[encoded data removed]",
      "text/plain": [
       "<Figure size 640x480 with 1 Axes>"
      ]
     },
     "metadata": {},
     "output_type": "display_data"
    }
   ],
   "source": [
    "# plot using Counter\n",
    "plt.bar(counts.keys(), counts.values());\n",
    "plt.xlabel('bitstrings');\n",
    "plt.ylabel('counts');"
   ]
  },
  {
   "cell_type": "code",
   "execution_count": 7,
   "id": "33be115d",
   "metadata": {
    "execution": {
     "iopub.execute_input": "2022-11-02T19:08:18.773077Z",
     "iopub.status.busy": "2022-11-02T19:08:18.772647Z",
     "iopub.status.idle": "2022-11-02T19:08:18.843685Z",
     "shell.execute_reply": "2022-11-02T19:08:18.842710Z"
    },
    "papermill": {
     "duration": 0.080097,
     "end_time": "2022-11-02T19:08:18.846621",
     "exception": false,
     "start_time": "2022-11-02T19:08:18.766524",
     "status": "completed"
    },
    "tags": []
   },
   "outputs": [
    {
     "data": {
      "text/plain": [
       "<Figure size 640x480 with 0 Axes>"
      ]
     },
     "metadata": {},
     "output_type": "display_data"
    }
   ],
   "source": [
    "plt.savefig(f\"{results_dir}/histogram.png\")"
   ]
  }
 ],
 "metadata": {
  "kernelspec": {
   "display_name": "Python 3 (ipykernel)",
   "language": "python",
   "name": "python3"
  },
  "language_info": {
   "codemirror_mode": {
    "name": "ipython",
    "version": 3
   },
   "file_extension": ".py",
   "mimetype": "text/x-python",
   "name": "python",
   "nbconvert_exporter": "python",
   "pygments_lexer": "ipython3",
   "version": "3.7.10"
  },
  "papermill": {
   "default_parameters": {},
   "duration": 10.951479,
   "end_time": "2022-11-02T19:08:19.483570",
   "environment_variables": {},
   "exception": null,
   "input_path": "/opt/braket/input/data/input/0_Getting_started_papermill.ipynb",
   "output_path": "/opt/braket/model/0_Getting_started_papermill.ipynb",
   "parameters": {
    "device_arn": "arn:aws:braket:::device/quantum-simulator/amazon/sv1",
    "results_dir": "/opt/braket/model",
    "shots": 500
   },
   "start_time": "2022-11-02T19:08:08.532091",
   "version": "2.4.0"
  },
  "vscode": {
   "interpreter": {
    "hash": "7c1d46b20c29fdc8b64b33c273bbdafe88648e7d75a1d0d158ccf067a4c62493"
   }
  }
 },
 "nbformat": 4,
 "nbformat_minor": 5
}