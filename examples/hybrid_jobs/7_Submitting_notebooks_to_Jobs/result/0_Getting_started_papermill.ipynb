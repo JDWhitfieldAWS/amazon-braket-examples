{
 "cells": [
  {
   "cell_type": "markdown",
   "id": "d6589220",
   "metadata": {
    "papermill": {
     "duration": 0.003462,
     "end_time": "2022-11-04T15:50:16.377213",
     "exception": false,
     "start_time": "2022-11-04T15:50:16.373751",
     "status": "completed"
    },
    "tags": []
   },
   "source": [
    "# Example notebook \n",
    "\n",
    "This notebook is a copy from `examples/getting_started/0_Getting_started/0_Getting_started.ipynb` with a small modifications for use with [Papermill](https://github.com/nteract/papermill).\n",
    "\n",
    "\n",
    "## Papermill parameters\n",
    "\n",
    "Papermill is a tool for parameterizing, executing, and analyzing Jupyter Notebooks. \n",
    "To parameterize a notebook, we need tag a cell that contains all the parameters. \n",
    "We can only tag one cell, and for simplicity we place it at the top of the notebook. \n",
    "Full instructions are available here https://papermill.readthedocs.io/en/latest/usage-parameterize.html#designate-parameters-for-a-cell. \n",
    "\n",
    "Below, we tag the parameter `shots=1000`. \n",
    "We can then run the notebook as usual cell-by-cell to see the results. \n",
    "\n",
    "We additionally add two Braket specific parameters called device_arn and results_dir. \n",
    "These will be overriden when we run a Braket Job. \n",
    "\n",
    "**In the following cell, we add a tag called `parameters` for Papermill to recognize.**"
   ]
  },
  {
   "cell_type": "code",
   "execution_count": 1,
   "id": "6eaf0dab",
   "metadata": {
    "execution": {
     "iopub.execute_input": "2022-11-04T15:50:16.384171Z",
     "iopub.status.busy": "2022-11-04T15:50:16.383820Z",
     "iopub.status.idle": "2022-11-04T15:50:16.392187Z",
     "shell.execute_reply": "2022-11-04T15:50:16.391458Z"
    },
    "papermill": {
     "duration": 0.014202,
     "end_time": "2022-11-04T15:50:16.394129",
     "exception": false,
     "start_time": "2022-11-04T15:50:16.379927",
     "status": "completed"
    },
    "tags": [
     "parameters"
    ]
   },
   "outputs": [],
   "source": [
    "# Papermill parameters\n",
    "shots = 1000\n",
    "\n",
    "# Braket specific parameters\n",
    "device_arn = \"arn:aws:braket:::device/quantum-simulator/amazon/sv1\"\n",
    "results_dir = \".\""
   ]
  },
  {
   "cell_type": "code",
   "execution_count": 2,
   "id": "5a5b8184",
   "metadata": {
    "execution": {
     "iopub.execute_input": "2022-11-04T15:50:16.400279Z",
     "iopub.status.busy": "2022-11-04T15:50:16.400043Z",
     "iopub.status.idle": "2022-11-04T15:50:16.403562Z",
     "shell.execute_reply": "2022-11-04T15:50:16.402733Z"
    },
    "papermill": {
     "duration": 0.008674,
     "end_time": "2022-11-04T15:50:16.405276",
     "exception": false,
     "start_time": "2022-11-04T15:50:16.396602",
     "status": "completed"
    },
    "tags": [
     "injected-parameters"
    ]
   },
   "outputs": [],
   "source": [
    "# Parameters\n",
    "shots = 500\n",
    "device_arn = \"arn:aws:braket:::device/quantum-simulator/amazon/sv1\"\n",
    "results_dir = \"/opt/braket/model\""
   ]
  },
  {
   "cell_type": "markdown",
   "id": "58aadfce",
   "metadata": {
    "papermill": {
     "duration": 0.002313,
     "end_time": "2022-11-04T15:50:16.409862",
     "exception": false,
     "start_time": "2022-11-04T15:50:16.407549",
     "status": "completed"
    },
    "tags": []
   },
   "source": [
    "# Getting started with Amazon Braket\n",
    "\n",
    "In this hello-world tutorial we prepare a maximally entangled Bell state between two qubits. We then run our circuit on a local simulator and obtain the results."
   ]
  },
  {
   "cell_type": "code",
   "execution_count": 3,
   "id": "f2e5ec66",
   "metadata": {
    "execution": {
     "iopub.execute_input": "2022-11-04T15:50:16.415718Z",
     "iopub.status.busy": "2022-11-04T15:50:16.415472Z",
     "iopub.status.idle": "2022-11-04T15:50:19.725949Z",
     "shell.execute_reply": "2022-11-04T15:50:19.724837Z"
    },
    "papermill": {
     "duration": 3.316062,
     "end_time": "2022-11-04T15:50:19.728161",
     "exception": false,
     "start_time": "2022-11-04T15:50:16.412099",
     "status": "completed"
    },
    "tags": []
   },
   "outputs": [],
   "source": [
    "# general imports\n",
    "import matplotlib.pyplot as plt\n",
    "\n",
    "%matplotlib inline\n",
    "\n",
    "from braket.aws import AwsDevice\n",
    "\n",
    "# AWS imports: Import Braket SDK modules\n",
    "from braket.circuits import Circuit\n",
    "from braket.devices import LocalSimulator"
   ]
  },
  {
   "cell_type": "markdown",
   "id": "e52f4110",
   "metadata": {
    "papermill": {
     "duration": 0.002532,
     "end_time": "2022-11-04T15:50:19.733317",
     "exception": false,
     "start_time": "2022-11-04T15:50:19.730785",
     "status": "completed"
    },
    "tags": []
   },
   "source": [
    "## Build a circuit\n",
    "\n",
    "Let's build a Bell state with two qubits. By calling `Circuit()` we create an empty circuit, and we can just add gates to the circuit. "
   ]
  },
  {
   "cell_type": "code",
   "execution_count": 4,
   "id": "4eddfa25",
   "metadata": {
    "execution": {
     "iopub.execute_input": "2022-11-04T15:50:19.763591Z",
     "iopub.status.busy": "2022-11-04T15:50:19.763066Z",
     "iopub.status.idle": "2022-11-04T15:50:19.768324Z",
     "shell.execute_reply": "2022-11-04T15:50:19.767479Z"
    },
    "papermill": {
     "duration": 0.034829,
     "end_time": "2022-11-04T15:50:19.770481",
     "exception": false,
     "start_time": "2022-11-04T15:50:19.735652",
     "status": "completed"
    },
    "tags": []
   },
   "outputs": [],
   "source": [
    "# build a Bell state with two qubits. Here 'cnot(control=0, target=1)' can be simplified as 'cnot(0,1)'\n",
    "bell = Circuit().h(0).cnot(control=0, target=1)"
   ]
  },
  {
   "cell_type": "markdown",
   "id": "5d51b9a4",
   "metadata": {
    "papermill": {
     "duration": 0.002442,
     "end_time": "2022-11-04T15:50:19.775447",
     "exception": false,
     "start_time": "2022-11-04T15:50:19.773005",
     "status": "completed"
    },
    "tags": []
   },
   "source": [
    "## Submit the circuit to the local simulator and obtain the results\n",
    "\n",
    "Here we submit our circuit to the local simulator and obtain the results."
   ]
  },
  {
   "cell_type": "code",
   "execution_count": 5,
   "id": "b63fb5fa",
   "metadata": {
    "execution": {
     "iopub.execute_input": "2022-11-04T15:50:19.781517Z",
     "iopub.status.busy": "2022-11-04T15:50:19.781273Z",
     "iopub.status.idle": "2022-11-04T15:50:23.956010Z",
     "shell.execute_reply": "2022-11-04T15:50:23.955149Z"
    },
    "papermill": {
     "duration": 4.180142,
     "end_time": "2022-11-04T15:50:23.957914",
     "exception": false,
     "start_time": "2022-11-04T15:50:19.777772",
     "status": "completed"
    },
    "tags": []
   },
   "outputs": [
    {
     "name": "stdout",
     "output_type": "stream",
     "text": [
      "Counter({'00': 258, '11': 242})\n"
     ]
    }
   ],
   "source": [
    "# set up device\n",
    "device = AwsDevice(device_arn)\n",
    "# device = LocalSimulator()\n",
    "\n",
    "# run circuit\n",
    "result = device.run(bell, shots=shots).result()\n",
    "# get measurement shots\n",
    "counts = result.measurement_counts\n",
    "# print counts\n",
    "print(counts)"
   ]
  },
  {
   "cell_type": "code",
   "execution_count": 6,
   "id": "0fa02fe7",
   "metadata": {
    "execution": {
     "iopub.execute_input": "2022-11-04T15:50:23.965370Z",
     "iopub.status.busy": "2022-11-04T15:50:23.964685Z",
     "iopub.status.idle": "2022-11-04T15:50:24.094769Z",
     "shell.execute_reply": "2022-11-04T15:50:24.093711Z"
    },
    "papermill": {
     "duration": 0.136967,
     "end_time": "2022-11-04T15:50:24.097711",
     "exception": false,
     "start_time": "2022-11-04T15:50:23.960744",
     "status": "completed"
    },
    "tags": []
   },
   "outputs": [
    {
     "data": {
      "image/png": "[encoded data removed]",
      "text/plain": [
       "<Figure size 640x480 with 1 Axes>"
      ]
     },
     "metadata": {},
     "output_type": "display_data"
    }
   ],
   "source": [
    "# plot using Counter\n",
    "plt.bar(counts.keys(), counts.values())\n",
    "plt.xlabel(\"bitstrings\")\n",
    "plt.ylabel(\"counts\");"
   ]
  },
  {
   "cell_type": "markdown",
   "id": "6d8dd489",
   "metadata": {
    "papermill": {
     "duration": 0.003234,
     "end_time": "2022-11-04T15:50:24.104408",
     "exception": false,
     "start_time": "2022-11-04T15:50:24.101174",
     "status": "completed"
    },
    "tags": []
   },
   "source": [
    "**The following cell saves the notebook figures to a file**\n",
    "\n",
    "The use of `results_dir` is that the figures saves to the correct directory when called from a Braket Job."
   ]
  },
  {
   "cell_type": "code",
   "execution_count": 7,
   "id": "cb6898df",
   "metadata": {
    "execution": {
     "iopub.execute_input": "2022-11-04T15:50:24.112185Z",
     "iopub.status.busy": "2022-11-04T15:50:24.111812Z",
     "iopub.status.idle": "2022-11-04T15:50:24.162339Z",
     "shell.execute_reply": "2022-11-04T15:50:24.161518Z"
    },
    "papermill": {
     "duration": 0.056701,
     "end_time": "2022-11-04T15:50:24.164236",
     "exception": false,
     "start_time": "2022-11-04T15:50:24.107535",
     "status": "completed"
    },
    "tags": []
   },
   "outputs": [
    {
     "data": {
      "text/plain": [
       "<Figure size 640x480 with 0 Axes>"
      ]
     },
     "metadata": {},
     "output_type": "display_data"
    }
   ],
   "source": [
    "plt.savefig(f\"{results_dir}/histogram.png\")"
   ]
  },
  {
   "cell_type": "code",
   "execution_count": 8,
   "id": "66f7d2c8",
   "metadata": {
    "execution": {
     "iopub.execute_input": "2022-11-04T15:50:24.172881Z",
     "iopub.status.busy": "2022-11-04T15:50:24.172335Z",
     "iopub.status.idle": "2022-11-04T15:50:24.179437Z",
     "shell.execute_reply": "2022-11-04T15:50:24.178457Z"
    },
    "papermill": {
     "duration": 0.013578,
     "end_time": "2022-11-04T15:50:24.181498",
     "exception": false,
     "start_time": "2022-11-04T15:50:24.167920",
     "status": "completed"
    },
    "tags": []
   },
   "outputs": [
    {
     "name": "stdout",
     "output_type": "stream",
     "text": [
      "Metrics - timestamp=1667577024.1765153; loss=1; iteration_number=1;\n"
     ]
    }
   ],
   "source": [
    "from braket.jobs.metrics import log_metric\n",
    "\n",
    "log_metric(\n",
    "    metric_name=\"loss\",\n",
    "    value=1,\n",
    "    iteration_number=1,\n",
    ")"
   ]
  }
 ],
 "metadata": {
  "kernelspec": {
   "display_name": "Python 3 (ipykernel)",
   "language": "python",
   "name": "python3"
  },
  "language_info": {
   "codemirror_mode": {
    "name": "ipython",
    "version": 3
   },
   "file_extension": ".py",
   "mimetype": "text/x-python",
   "name": "python",
   "nbconvert_exporter": "python",
   "pygments_lexer": "ipython3",
   "version": "3.7.10"
  },
  "papermill": {
   "default_parameters": {},
   "duration": 9.747522,
   "end_time": "2022-11-04T15:50:24.602900",
   "environment_variables": {},
   "exception": null,
   "input_path": "/opt/braket/input/data/input/0_Getting_started_papermill.ipynb",
   "output_path": "/opt/braket/model/0_Getting_started_papermill.ipynb",
   "parameters": {
    "device_arn": "arn:aws:braket:::device/quantum-simulator/amazon/sv1",
    "results_dir": "/opt/braket/model",
    "shots": 500
   },
   "start_time": "2022-11-04T15:50:14.855378",
   "version": "2.4.0"
  },
  "vscode": {
   "interpreter": {
    "hash": "7c1d46b20c29fdc8b64b33c273bbdafe88648e7d75a1d0d158ccf067a4c62493"
   }
  }
 },
 "nbformat": 4,
 "nbformat_minor": 5
}
